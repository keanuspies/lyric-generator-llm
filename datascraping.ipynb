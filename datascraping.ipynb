{
 "cells": [
  {
   "cell_type": "code",
   "execution_count": 2,
   "metadata": {},
   "outputs": [],
   "source": [
    "import re\n",
    "import requests\n",
    "from bs4 import BeautifulSoup\n",
    "import time\n",
    "import numpy as np\n",
    "import glob\n",
    "import tqdm"
   ]
  },
  {
   "attachments": {},
   "cell_type": "markdown",
   "metadata": {},
   "source": [
    "## Data Scraping"
   ]
  },
  {
   "cell_type": "code",
   "execution_count": 5,
   "metadata": {},
   "outputs": [],
   "source": [
    "def get_lyrics(main_url):\n",
    "    # proxy = next(proxyPool)\n",
    "    time.sleep(np.random.randint(10) + 10)\n",
    "    req = requests.get(main_url, headers={\"User-Agent\":\"Mozilla/5.0\"})\n",
    "    soup = BeautifulSoup(req.text, \"html.parser\")\n",
    "\n",
    "    lyrics  = soup.get_text().split('Lyrics')[3].strip('\\n').split('Submit')[0]\n",
    "    if \"(originally by\" in lyrics: return ''\n",
    "    lyrics = lyrics.replace('\\r', '')\n",
    "    lyrics = re.sub(r'(\\n\\n+)', '\\n\\n', lyrics)\n",
    "    \n",
    "    return lyrics[:-1]\n",
    "\n",
    "def get_artist_links(main_url):\n",
    "    # proxy = next(proxyPool)\n",
    "    time.sleep(np.random.randint(10))\n",
    "    req = requests.get(main_url, headers={\"User-Agent\":\"Mozilla/5.0\"})\n",
    "    soup = BeautifulSoup(req.text, \"html.parser\")\n",
    "    links = soup.find_all('a')\n",
    "    data = soup.find_all('div',attrs={\"id\": \"listAlbum\"})\n",
    "    all_links = []\n",
    "    for div in data:\n",
    "        links = div.find_all('a')\n",
    "        for link in links:\n",
    "            link_ref = link.get('href')\n",
    "            if \"https://www.azlyrics.com\" in link_ref: continue\n",
    "            all_links.append(\"https://www.azlyrics.com\" + link_ref)\n",
    "    return all_links\n",
    "\n",
    "def get_all_artist_lyrics(main_url, outfile_name):\n",
    "    links = get_artist_links(main_url)\n",
    "    lyrics = ''\n",
    "    with open(outfile_name, 'a') as outfile:\n",
    "        for link in tqdm.tqdm(links):\n",
    "            # print(link)\n",
    "            try:\n",
    "                lyrics = get_lyrics(link)\n",
    "                outfile.write(lyrics)\n",
    "            except Exception as e:\n",
    "                print(e)\n",
    "\n",
    "    return lyrics"
   ]
  },
  {
   "cell_type": "code",
   "execution_count": 9,
   "metadata": {},
   "outputs": [
    {
     "name": "stdout",
     "output_type": "stream",
     "text": [
      "lorde\n"
     ]
    },
    {
     "name": "stderr",
     "output_type": "stream",
     "text": [
      "100%|██████████| 62/62 [15:31<00:00, 15.02s/it]\n"
     ]
    }
   ],
   "source": [
    "artists = [\"lorde\"]\n",
    "for artist in artists:\n",
    "    print(artist)\n",
    "    website = \"https://www.azlyrics.com/\" + artist[0] + '/' + artist + '.html'\n",
    "    get_all_artist_lyrics(website, f'data/{artist}.txt')\n",
    "    # with open(, 'w+') as f:\n",
    "    #     f.write(lyrics)"
   ]
  },
  {
   "cell_type": "code",
   "execution_count": 9,
   "metadata": {},
   "outputs": [
    {
     "data": {
      "text/plain": [
       "821319"
      ]
     },
     "execution_count": 9,
     "metadata": {},
     "output_type": "execute_result"
    }
   ],
   "source": [
    "filenames = glob.glob('data/*txt')\n",
    "with open('data/all_lyrics.txt', 'w') as outfile:\n",
    "    for fname in filenames:\n",
    "        if 'all_lyrics' in fname: continue\n",
    "        with open(fname) as infile:\n",
    "            for line in infile:\n",
    "                outfile.write(line)\n",
    "\n",
    "with open('data/all_lyrics.txt', 'r') as f:\n",
    "    text = f.read()\n",
    "\n",
    "    \n",
    "\n",
    "with open('data/all_lyrics.txt', 'w+') as f:\n",
    "    list_of_chars = \"[^\\n\\\"$&\\'(),-.0123456789ABCDEFGHIJKLMNOPQRSTUVWY\\[\\]abcdefghijklmnopqrstuvwxyz ]\"\n",
    "    regex = re.compile(list_of_chars)\n",
    "    x = regex.sub('', text)\n",
    "\n",
    "    regex = re.compile(\"[<>:/\\|?*]\")\n",
    "    x = regex.sub('', x)\n",
    "\n",
    "    f.write(x)\n",
    "\n",
    "with open('data/all_lyrics.txt', 'r', encoding='utf-8') as f:\n",
    "    text = f.read()\n",
    "\n",
    "len(text)"
   ]
  },
  {
   "cell_type": "code",
   "execution_count": 10,
   "metadata": {},
   "outputs": [],
   "source": [
    "n = int(len(text)*0.8)\n",
    "train = text[:n]\n",
    "val = text[n:]"
   ]
  },
  {
   "cell_type": "code",
   "execution_count": null,
   "metadata": {},
   "outputs": [],
   "source": [
    "with open('data_splits/train.txt', 'w+') as f:\n",
    "    f.write(train)\n",
    "with open('data_splits/val.txt', 'w+') as f:\n",
    "    f.write(val)"
   ]
  },
  {
   "cell_type": "code",
   "execution_count": 12,
   "metadata": {},
   "outputs": [
    {
     "data": {
      "text/plain": [
       "164264"
      ]
     },
     "execution_count": 12,
     "metadata": {},
     "output_type": "execute_result"
    }
   ],
   "source": [
    "len(val)"
   ]
  },
  {
   "cell_type": "code",
   "execution_count": 13,
   "metadata": {},
   "outputs": [
    {
     "data": {
      "text/plain": [
       "False"
      ]
     },
     "execution_count": 13,
     "metadata": {},
     "output_type": "execute_result"
    }
   ],
   "source": [
    "'>' in val"
   ]
  },
  {
   "cell_type": "code",
   "execution_count": 19,
   "metadata": {},
   "outputs": [
    {
     "data": {
      "text/plain": [
       "[False, False, False, False, False, False, False, False]"
      ]
     },
     "execution_count": 19,
     "metadata": {},
     "output_type": "execute_result"
    }
   ],
   "source": [
    "[x in train for x in '< > : / \\ | ? *'.split(' ')]"
   ]
  },
  {
   "cell_type": "code",
   "execution_count": null,
   "metadata": {},
   "outputs": [],
   "source": []
  }
 ],
 "metadata": {
  "kernelspec": {
   "display_name": "llms",
   "language": "python",
   "name": "python3"
  },
  "language_info": {
   "codemirror_mode": {
    "name": "ipython",
    "version": 3
   },
   "file_extension": ".py",
   "mimetype": "text/x-python",
   "name": "python",
   "nbconvert_exporter": "python",
   "pygments_lexer": "ipython3",
   "version": "3.11.5"
  },
  "orig_nbformat": 4,
  "vscode": {
   "interpreter": {
    "hash": "323baaede7499c3add454d1af5add592c6ed0fd69b14735d6fe682854c9d6878"
   }
  }
 },
 "nbformat": 4,
 "nbformat_minor": 2
}
